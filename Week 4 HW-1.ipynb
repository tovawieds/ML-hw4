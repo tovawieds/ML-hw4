{
 "cells": [
  {
   "cell_type": "markdown",
   "id": "above-guest",
   "metadata": {},
   "source": [
    "# K-Nearest Neighbors\n",
    "This assignment will use the Breast Cancer Wisconsin dataset. The goal of this assignment is to build a K-Nearest Neighbor model that best suits the data. You will need to determine the best value for 'k' and justify your answer. You will then report the accuracy of the learner. "
   ]
  },
  {
   "cell_type": "code",
   "execution_count": 1,
   "id": "concrete-medicine",
   "metadata": {},
   "outputs": [],
   "source": [
    "# Run this cell to load the dataset into a dataframe and split into training and testing sets. DO NOT CHANGE ANYTHING IN THIS CELL\n",
    "from sklearn import datasets\n",
    "import pandas as pd\n",
    "from sklearn.model_selection import train_test_split\n",
    "data = datasets.load_breast_cancer()\n",
    "df = pd.DataFrame(data.data, columns=data.feature_names)\n",
    "df['target'] = data.target\n",
    "target = df['target']\n",
    "del df['target']\n",
    "X_train, X_test, y_train, y_test = train_test_split(df, target, test_size=0.2, random_state=42)"
   ]
  },
  {
   "cell_type": "markdown",
   "id": "quarterly-surgeon",
   "metadata": {},
   "source": [
    "## Part 1\n",
    "Please write your code in the following cell. Your job is to determine the best value for 'k'. Create multiple models using the numbers 1 through 40 and save the training and testing accuracy scores for each model. The training accuracy scores should be saved in an array called 'train_score'. The testing score should be saved in an array called 'test_score'. The range of 'k' values you are checking should be saved in a variable called 'ks'. If you do not use the exact names that have been specified the graphing function will not work. MAKE SURE YOU NAME EVERYTHING CORRECTLY. Once you have completed this task you can run the plotting code in next cell. You will use the resulting graph to answer the questions in part 2.\n",
    "\n",
    "** When instantiating your model do NOT set the distance metric. The only hyperparamater you should be setting is 'n_neighbors' **"
   ]
  },
  {
   "cell_type": "code",
   "execution_count": 2,
   "id": "molecular-programmer",
   "metadata": {},
   "outputs": [],
   "source": [
    "# Write your code in this cell"
   ]
  },
  {
   "cell_type": "code",
   "execution_count": 3,
   "id": "transparent-softball",
   "metadata": {},
   "outputs": [
    {
     "ename": "NameError",
     "evalue": "name 'ks' is not defined",
     "output_type": "error",
     "traceback": [
      "\u001b[1;31m---------------------------------------------------------------------------\u001b[0m",
      "\u001b[1;31mNameError\u001b[0m                                 Traceback (most recent call last)",
      "\u001b[1;32m<ipython-input-3-e064f5ca1c95>\u001b[0m in \u001b[0;36m<module>\u001b[1;34m\u001b[0m\n\u001b[0;32m      2\u001b[0m \u001b[1;32mimport\u001b[0m \u001b[0mmatplotlib\u001b[0m\u001b[1;33m.\u001b[0m\u001b[0mpyplot\u001b[0m \u001b[1;32mas\u001b[0m \u001b[0mplt\u001b[0m\u001b[1;33m\u001b[0m\u001b[1;33m\u001b[0m\u001b[0m\n\u001b[0;32m      3\u001b[0m \u001b[0mplt\u001b[0m\u001b[1;33m.\u001b[0m\u001b[0mfigure\u001b[0m\u001b[1;33m(\u001b[0m\u001b[0mfigsize\u001b[0m\u001b[1;33m=\u001b[0m\u001b[1;33m(\u001b[0m\u001b[1;36m10\u001b[0m\u001b[1;33m,\u001b[0m \u001b[1;36m6\u001b[0m\u001b[1;33m)\u001b[0m\u001b[1;33m)\u001b[0m\u001b[1;33m\u001b[0m\u001b[1;33m\u001b[0m\u001b[0m\n\u001b[1;32m----> 4\u001b[1;33m \u001b[0mplt\u001b[0m\u001b[1;33m.\u001b[0m\u001b[0mplot\u001b[0m\u001b[1;33m(\u001b[0m\u001b[0mks\u001b[0m \u001b[1;33m,\u001b[0m \u001b[0mtrain_score\u001b[0m\u001b[1;33m,\u001b[0m \u001b[1;34m'o-'\u001b[0m\u001b[1;33m,\u001b[0m \u001b[0mlabel\u001b[0m\u001b[1;33m=\u001b[0m\u001b[1;34m'train'\u001b[0m\u001b[1;33m)\u001b[0m\u001b[1;33m\u001b[0m\u001b[1;33m\u001b[0m\u001b[0m\n\u001b[0m\u001b[0;32m      5\u001b[0m \u001b[0mplt\u001b[0m\u001b[1;33m.\u001b[0m\u001b[0mplot\u001b[0m\u001b[1;33m(\u001b[0m\u001b[0mks\u001b[0m \u001b[1;33m,\u001b[0m \u001b[0mtest_score\u001b[0m\u001b[1;33m,\u001b[0m \u001b[1;34m's-'\u001b[0m\u001b[1;33m,\u001b[0m \u001b[0mlabel\u001b[0m\u001b[1;33m=\u001b[0m\u001b[1;34m'test'\u001b[0m\u001b[1;33m)\u001b[0m\u001b[1;33m\u001b[0m\u001b[1;33m\u001b[0m\u001b[0m\n\u001b[0;32m      6\u001b[0m \u001b[0mplt\u001b[0m\u001b[1;33m.\u001b[0m\u001b[0mxlabel\u001b[0m\u001b[1;33m(\u001b[0m\u001b[1;34m'k'\u001b[0m\u001b[1;33m)\u001b[0m\u001b[1;33m\u001b[0m\u001b[1;33m\u001b[0m\u001b[0m\n",
      "\u001b[1;31mNameError\u001b[0m: name 'ks' is not defined"
     ]
    },
    {
     "data": {
      "text/plain": [
       "<Figure size 720x432 with 0 Axes>"
      ]
     },
     "metadata": {},
     "output_type": "display_data"
    }
   ],
   "source": [
    "# Plotting the results - you don't need to change anything in this cell\n",
    "import matplotlib.pyplot as plt\n",
    "plt.figure(figsize=(10, 6))\n",
    "plt.plot(ks , train_score, 'o-', label='train')\n",
    "plt.plot(ks , test_score, 's-', label='test')\n",
    "plt.xlabel('k')\n",
    "plt.ylabel('score')\n",
    "plt.title('Value of K vs Model Accuracy')\n",
    "plt.legend()"
   ]
  },
  {
   "cell_type": "markdown",
   "id": "independent-great",
   "metadata": {},
   "source": [
    "## Part 2\n",
    "Using the graph, answer the following questions in DETAIL. If your answers are not clearly explained you will lose credit\n",
    "\n",
    "1) Which value of 'k' results in the least amount of vairance. Explain your choice\n",
    "\n",
    "2) Which value of 'k' returns the greatest accuracy on the training data? Based how the KNN algorithm works, explain why this is the case. Can there be better values for 'k' when we want good accuracy on the training data?\n",
    "\n",
    "3) At which value of 'k' is the model most overfit? Explain.\n",
    "\n",
    "4) Explain why there is a difference in performace between k=1 and k=40 for the training data\n",
    "\n",
    "5) Explain why there is a difference in performace between k=1 and k=40 for the testing data\n",
    "\n",
    "6) You are given 500 rows of new data that the model has never seen before. Which value of 'k' are you choosing? Justify your answer"
   ]
  },
  {
   "cell_type": "markdown",
   "id": "dying-salad",
   "metadata": {},
   "source": [
    "#### Write Your responses in this cell"
   ]
  },
  {
   "cell_type": "markdown",
   "id": "destroyed-finnish",
   "metadata": {},
   "source": [
    "## Part 3\n",
    "Repeat Part 1 using difference distance metrics. \n",
    "\n",
    "\n",
    "Step 1: Choose one of the distance merics from [this](https://scikit-learn.org/stable/modules/generated/sklearn.metrics.pairwise.distance_metrics.html#sklearn.metrics.pairwise.distance_metrics) site (you can pick any metric besides 'cosine') and save the training and testing scores like in Part 1. Once you are done, graph the results. \n",
    "\n",
    "Step  2: In the next cell repeat the process setting the distance metric to 'cosine'. Graph the results.\n",
    "\n",
    "Step 3: Once you have completed both graphs, write a comment explaining which metric you think is best to use on this dataset. Explain why distance metrics are important and why performance might vary when the distance metric is changed\n",
    "\n",
    "** You must use the same variable names as you did in Part 1.The training accuracy scores should be saved in an array called 'train_score'. The testing score should be saved in an array called 'test_score'. The range of 'k' values you are checking should be saved in a variable called 'ks'. If you do not use the exact names that have been specified the graphing function will not work. MAKE SURE YOU NAME EVERYTHING CORRECTLY.  **"
   ]
  },
  {
   "cell_type": "code",
   "execution_count": null,
   "id": "fourth-fourth",
   "metadata": {},
   "outputs": [],
   "source": [
    "# Write your code for Step 1 in this cell\n",
    "from sklearn.metrics import pairwise_distances\n",
    "# An example of setting the distance metric is: model = KNeighborsClassifier(n_neighbors = k, metric='cosine')"
   ]
  },
  {
   "cell_type": "code",
   "execution_count": null,
   "id": "dressed-prototype",
   "metadata": {},
   "outputs": [],
   "source": [
    "# Plotting the results - you don't need to change anything in this cell\n",
    "import matplotlib.pyplot as plt\n",
    "plt.figure(figsize=(10, 6))\n",
    "plt.plot(ks , train_score, 'o-', label='train')\n",
    "plt.plot(ks , test_score, 's-', label='test')\n",
    "plt.xlabel('k')\n",
    "plt.ylabel('score')\n",
    "plt.title('Value of K vs Model Accuracy With New Distance Metric')\n",
    "plt.legend()"
   ]
  },
  {
   "cell_type": "code",
   "execution_count": null,
   "id": "dirty-convertible",
   "metadata": {},
   "outputs": [],
   "source": [
    "# Write your code for Step 2 in this cell\n",
    "from sklearn.metrics import pairwise_distances\n",
    "# An example of setting the distance metric is: model = KNeighborsClassifier(n_neighbors = k, metric='cosine')"
   ]
  },
  {
   "cell_type": "code",
   "execution_count": 4,
   "id": "aging-representative",
   "metadata": {},
   "outputs": [
    {
     "ename": "NameError",
     "evalue": "name 'ks' is not defined",
     "output_type": "error",
     "traceback": [
      "\u001b[1;31m---------------------------------------------------------------------------\u001b[0m",
      "\u001b[1;31mNameError\u001b[0m                                 Traceback (most recent call last)",
      "\u001b[1;32m<ipython-input-4-549242264526>\u001b[0m in \u001b[0;36m<module>\u001b[1;34m\u001b[0m\n\u001b[0;32m      2\u001b[0m \u001b[1;32mimport\u001b[0m \u001b[0mmatplotlib\u001b[0m\u001b[1;33m.\u001b[0m\u001b[0mpyplot\u001b[0m \u001b[1;32mas\u001b[0m \u001b[0mplt\u001b[0m\u001b[1;33m\u001b[0m\u001b[1;33m\u001b[0m\u001b[0m\n\u001b[0;32m      3\u001b[0m \u001b[0mplt\u001b[0m\u001b[1;33m.\u001b[0m\u001b[0mfigure\u001b[0m\u001b[1;33m(\u001b[0m\u001b[0mfigsize\u001b[0m\u001b[1;33m=\u001b[0m\u001b[1;33m(\u001b[0m\u001b[1;36m10\u001b[0m\u001b[1;33m,\u001b[0m \u001b[1;36m6\u001b[0m\u001b[1;33m)\u001b[0m\u001b[1;33m)\u001b[0m\u001b[1;33m\u001b[0m\u001b[1;33m\u001b[0m\u001b[0m\n\u001b[1;32m----> 4\u001b[1;33m \u001b[0mplt\u001b[0m\u001b[1;33m.\u001b[0m\u001b[0mplot\u001b[0m\u001b[1;33m(\u001b[0m\u001b[0mks\u001b[0m \u001b[1;33m,\u001b[0m \u001b[0mtrain_score\u001b[0m\u001b[1;33m,\u001b[0m \u001b[1;34m'o-'\u001b[0m\u001b[1;33m,\u001b[0m \u001b[0mlabel\u001b[0m\u001b[1;33m=\u001b[0m\u001b[1;34m'train'\u001b[0m\u001b[1;33m)\u001b[0m\u001b[1;33m\u001b[0m\u001b[1;33m\u001b[0m\u001b[0m\n\u001b[0m\u001b[0;32m      5\u001b[0m \u001b[0mplt\u001b[0m\u001b[1;33m.\u001b[0m\u001b[0mplot\u001b[0m\u001b[1;33m(\u001b[0m\u001b[0mks\u001b[0m \u001b[1;33m,\u001b[0m \u001b[0mtest_score\u001b[0m\u001b[1;33m,\u001b[0m \u001b[1;34m's-'\u001b[0m\u001b[1;33m,\u001b[0m \u001b[0mlabel\u001b[0m\u001b[1;33m=\u001b[0m\u001b[1;34m'test'\u001b[0m\u001b[1;33m)\u001b[0m\u001b[1;33m\u001b[0m\u001b[1;33m\u001b[0m\u001b[0m\n\u001b[0;32m      6\u001b[0m \u001b[0mplt\u001b[0m\u001b[1;33m.\u001b[0m\u001b[0mxlabel\u001b[0m\u001b[1;33m(\u001b[0m\u001b[1;34m'k'\u001b[0m\u001b[1;33m)\u001b[0m\u001b[1;33m\u001b[0m\u001b[1;33m\u001b[0m\u001b[0m\n",
      "\u001b[1;31mNameError\u001b[0m: name 'ks' is not defined"
     ]
    },
    {
     "data": {
      "text/plain": [
       "<Figure size 720x432 with 0 Axes>"
      ]
     },
     "metadata": {},
     "output_type": "display_data"
    }
   ],
   "source": [
    "# Plotting the results - you don't need to change anything in this cell\n",
    "import matplotlib.pyplot as plt\n",
    "plt.figure(figsize=(10, 6))\n",
    "plt.plot(ks , train_score, 'o-', label='train')\n",
    "plt.plot(ks , test_score, 's-', label='test')\n",
    "plt.xlabel('k')\n",
    "plt.ylabel('score')\n",
    "plt.title('Value of K vs Model Accuracy With Cosine Distance Metric')\n",
    "plt.legend()"
   ]
  },
  {
   "cell_type": "markdown",
   "id": "administrative-phenomenon",
   "metadata": {},
   "source": [
    "#### Write your answer to Step 3 in this cell"
   ]
  },
  {
   "cell_type": "code",
   "execution_count": null,
   "id": "negative-partner",
   "metadata": {},
   "outputs": [],
   "source": []
  }
 ],
 "metadata": {
  "kernelspec": {
   "display_name": "Python 3",
   "language": "python",
   "name": "python3"
  },
  "language_info": {
   "codemirror_mode": {
    "name": "ipython",
    "version": 3
   },
   "file_extension": ".py",
   "mimetype": "text/x-python",
   "name": "python",
   "nbconvert_exporter": "python",
   "pygments_lexer": "ipython3",
   "version": "3.8.3"
  }
 },
 "nbformat": 4,
 "nbformat_minor": 5
}
